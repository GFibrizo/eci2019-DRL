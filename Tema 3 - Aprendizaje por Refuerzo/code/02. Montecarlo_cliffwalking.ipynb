{
 "cells": [
  {
   "cell_type": "markdown",
   "metadata": {},
   "source": [
    "# Método de Montecarlo para _cliff walking_"
   ]
  },
  {
   "cell_type": "markdown",
   "metadata": {},
   "source": [
    "[**Juan Gómez Romero**](https://decsai.ugr.es/~jgomez)  \n",
    "Departamento de Ciencias de la Computación e Inteligencia Artificial  \n",
    "Universidad de Granada  \n",
    "This work is licensed under the [GNU General Public License v3.0](https://choosealicense.com/licenses/gpl-3.0/).\n",
    "\n",
    "---\n",
    "\n",
    "Ejemplo basado en:\n",
    "> R.S. Sutton, A.G. Barto (2018) Reinforcement Learning. Chapters 6.5: Q-learning: Off-policy TD Control, 6.6: Expected Sarsa.\n",
    "\n",
    "_Consider the gridworld shown to the right. This is a standard undiscounted, episodic task, with start and goal states, and the usual actions causing movement up, down, right, and left. Reward is -1 on all transitions except those into the region marked \"The Cliff\" Stepping into this region incurs a reward of -100 and sends the agent instantly back to the start._\n",
    "\n",
    "![](cliffwalking.png)\n",
    "\n",
    "> Udacity (2019) Deep Reinforcement Learning Course. Available in [GitHub](https://github.com/openai/gym/blob/master/gym/envs/toy_text/cliffwalking.py)."
   ]
  },
  {
   "cell_type": "markdown",
   "metadata": {},
   "source": [
    "## Explorar entorno virtual\n",
    "\n",
    "En este ejercicio utilizamos el entorno virtual [CliffWalking-v0](https://github.com/openai/gym/blob/master/gym/envs/toy_text/cliffwalking.py) de [OpenAI](https://openai.com). \n",
    "\n",
    "En primer lugar, vamos a explorar cómo funciona este entorno."
   ]
  },
  {
   "cell_type": "code",
   "execution_count": 1,
   "metadata": {},
   "outputs": [],
   "source": [
    "import gym"
   ]
  },
  {
   "cell_type": "markdown",
   "metadata": {},
   "source": [
    "Crear entorno:"
   ]
  },
  {
   "cell_type": "code",
   "execution_count": 2,
   "metadata": {},
   "outputs": [],
   "source": [
    "env = gym.make('CliffWalking-v0')"
   ]
  },
  {
   "cell_type": "markdown",
   "metadata": {},
   "source": [
    "El estado es la posición que ocupa el agente en la cuadrícula, numerada del $0$ al $47$.\n",
    "\n",
    "El estado inicial es la posición $36$. La posición $47$ es el estado final. \n",
    "\n",
    "El agente puede realizar 4 acciones:\n",
    "\n",
    "```\n",
    "    ARRIBA = 0\n",
    "    DERECHA = 1\n",
    "    ABAJO = 1\n",
    "    IZQUIERDA = 3\n",
    "```\n",
    "\n",
    "En [CliffWalking-v0](https://github.com/openai/gym/blob/master/gym/envs/toy_text/cliffwalking.py) la recompensa es siempre $-1$, excepto cuando se cae al precipicio ($-100$). No obstante, el rango definido de posibles recompensas es $[-\\inf, +\\inf]$. \n",
    "\n",
    "El objetivo del agente es alcanzar la posición final en el menor tiempo posible. El episodio termina cuando el agente encuentra la meta o cae al precipicio."
   ]
  },
  {
   "cell_type": "code",
   "execution_count": 3,
   "metadata": {},
   "outputs": [
    {
     "name": "stdout",
     "output_type": "stream",
     "text": [
      "Discrete(48)\n",
      "Discrete(4)\n",
      "(-inf, inf)\n"
     ]
    }
   ],
   "source": [
    "print(env.observation_space)\n",
    "print(env.action_space)\n",
    "print(env.reward_range)"
   ]
  },
  {
   "cell_type": "markdown",
   "metadata": {},
   "source": [
    "El siguiente código implementa un agente aleatorio (actúa durante 10 episodios)."
   ]
  },
  {
   "cell_type": "code",
   "execution_count": 4,
   "metadata": {},
   "outputs": [
    {
     "name": "stdout",
     "output_type": "stream",
     "text": [
      "\n",
      "Caiste :(\n",
      "Recompensa:  -220277\n",
      "\n",
      "Caiste :(\n",
      "Recompensa:  -33218\n",
      "\n",
      "Caiste :(\n",
      "Recompensa:  -30387\n",
      "\n",
      "Caiste :(\n",
      "Recompensa:  -122427\n",
      "\n",
      "Caiste :(\n",
      "Recompensa:  -193893\n",
      "\n",
      "Caiste :(\n",
      "Recompensa:  -2914\n",
      "\n",
      "Caiste :(\n",
      "Recompensa:  -25478\n",
      "\n",
      "Caiste :(\n",
      "Recompensa:  -21296\n",
      "\n",
      "Caiste :(\n",
      "Recompensa:  -159928\n",
      "\n",
      "Caiste :(\n",
      "Recompensa:  -45064\n"
     ]
    }
   ],
   "source": [
    "for i_episode in range(10):\n",
    "    state = env.reset()\n",
    "    acc_reward = 0\n",
    "    while True:\n",
    "        action = env.action_space.sample()\n",
    "        state, reward, done, info = env.step(action)\n",
    "        acc_reward += reward\n",
    "        if done:\n",
    "            print('\\nMeta alcanzada :)') if reward < -100 else print('\\nCaiste :(') \n",
    "            print('Recompensa: ', acc_reward)            \n",
    "            break\n",
    "\n",
    "env.close()"
   ]
  },
  {
   "cell_type": "markdown",
   "metadata": {},
   "source": [
    "Como cabría esperar, el agente no es muy efectivo y cae al precipicio en la mayoría de las ocasiones."
   ]
  },
  {
   "cell_type": "markdown",
   "metadata": {},
   "source": [
    "# Método de Montecarlo"
   ]
  },
  {
   "cell_type": "markdown",
   "metadata": {},
   "source": [
    "### Algoritmo\n",
    "A continuación se proporciona una implementación del algoritmo de Montecarlo genérica para entornos con especios de estados y acciones discretos."
   ]
  },
  {
   "cell_type": "code",
   "execution_count": 5,
   "metadata": {},
   "outputs": [],
   "source": [
    "import sys\n",
    "import gym\n",
    "import numpy as np\n",
    "from collections import defaultdict\n",
    "\n",
    "def generate_episode_from_Q_epsilon(env, Q, epsilon, limit=1000):\n",
    "    \"\"\"Generador de episodios:\n",
    "    Params\n",
    "    ======\n",
    "    env: entorno discreto\n",
    "    Q: tabla Q, definida como un diccionario Q[state][action] = reward\n",
    "    epsilon: valor para epsilon-greedy\"\"\"\n",
    "    \n",
    "    episode = []\n",
    "    state = env.reset()\n",
    "    while True:\n",
    "        r = np.random.uniform(size=1)[0]\n",
    "        if r <= epsilon:\n",
    "            action = env.action_space.sample()\n",
    "        else:\n",
    "            action = np.argmax(Q[state])                \n",
    "        \n",
    "        next_state, reward, done, info = env.step(action)\n",
    "        episode.append((state, action, reward))\n",
    "        state = next_state\n",
    "        \n",
    "        if done or len(episode) > limit:\n",
    "            break\n",
    "            \n",
    "    return episode\n",
    "\n",
    "def mc_prediction_q(env, num_episodes, generate_episode, gamma=1.0, epsilon=0.2):\n",
    "    \"\"\"Algoritmo de Montecarlo:\n",
    "    Params\n",
    "    ======\n",
    "    env: entorno discreto\n",
    "    num_episodes: numero de episodios a generar\n",
    "    generate_episode: funcion para generar episodio siguiente\n",
    "    gamma: tasa de descuento\n",
    "    epsilon: valor para epsilon-greedy\"\"\"\n",
    "\n",
    "    # inicializar diccionarios (prediccion every-visit)\n",
    "    Q = defaultdict(lambda: np.zeros(env.action_space.n))  # Q\n",
    "    N = defaultdict(lambda: np.zeros(env.action_space.n))  # numero de visitas a (estado, accion)\n",
    "    returns_sum = defaultdict(lambda: np.zeros(env.action_space.n)) # suma de recompensa en (estado, accion)\n",
    "    \n",
    "    # bucle de episodios\n",
    "    for i_episode in range(1, num_episodes+1):\n",
    "        \n",
    "        # monitorizar progreso\n",
    "        if i_episode % 1 == 0:\n",
    "            print(\"\\rEpisode {}/{}.\".format(i_episode, num_episodes), end=\"\")\n",
    "            sys.stdout.flush()\n",
    "\n",
    "        # generar episodio\n",
    "        episode = generate_episode(env, Q, epsilon)\n",
    "        \n",
    "        # actualizar tabla Q\n",
    "        # - obtener estados, acciones y recompensas del episodio\n",
    "        states, actions, rewards = zip(*episode)        \n",
    "        # - obtener gamma para aplicar descuentos\n",
    "        discounts = np.array([gamma**i for i in range(len(rewards)+1)])\n",
    "        # - actualizar suma de recompensa, numero de visitas y Q para cada (estado, accion) del episodio        \n",
    "        for i, state in enumerate(states):\n",
    "            returns_sum[state][actions[i]] += sum(rewards[i:]*discounts[:-(1+i)])\n",
    "            N[state][actions[i]] += 1.0\n",
    "            Q[state][actions[i]] = returns_sum[state][actions[i]] / N[state][actions[i]]\n",
    "    \n",
    "    policy = dict((k,np.argmax(v)) for k, v in Q.items())\n",
    "            \n",
    "    return Q, policy"
   ]
  },
  {
   "cell_type": "markdown",
   "metadata": {},
   "source": [
    "Para llamar al algoritmo, creamos el entorno y llamamos a la función `mc_prediction_q`. "
   ]
  },
  {
   "cell_type": "code",
   "execution_count": 6,
   "metadata": {},
   "outputs": [
    {
     "name": "stdout",
     "output_type": "stream",
     "text": [
      "Episode 10000/10000."
     ]
    }
   ],
   "source": [
    "env = gym.make('CliffWalking-v0')\n",
    "\n",
    "# obtener estimacion de Q (funcion accion-valor)\n",
    "Q, policy = mc_prediction_q(env, 10000, generate_episode_from_Q_epsilon)"
   ]
  },
  {
   "cell_type": "markdown",
   "metadata": {},
   "source": [
    "### Visualización de resultados\n",
    "Podemos ver la política que se ha obtenido tras aplicar el método."
   ]
  },
  {
   "cell_type": "code",
   "execution_count": 7,
   "metadata": {},
   "outputs": [
    {
     "name": "stdout",
     "output_type": "stream",
     "text": [
      "\n",
      "Politica optima estimada(ARRIBA = 0, DERECHA = 1, ABAJO = 2, IZQUIERDA = 3, N/A = -1):\n",
      "[[ 1  1  1  2  0  1  1  1  1  2  3  3]\n",
      " [ 0  3  0  1  1  1  1  1  0  1  1  2]\n",
      " [ 1  0  3  0  1  0  0  0  3  1  1  2]\n",
      " [ 0 -1 -1 -1 -1 -1 -1 -1 -1 -1 -1 -1]]\n"
     ]
    }
   ],
   "source": [
    "# Mostrar política como matriz\n",
    "policy_plot = np.array([policy[key] if key in policy else -1 for key in np.arange(48)]).reshape(4, 12)\n",
    "print(\"\\nPolitica optima estimada(ARRIBA = 0, DERECHA = 1, ABAJO = 2, IZQUIERDA = 3, N/A = -1):\")\n",
    "print(policy_plot)"
   ]
  },
  {
   "cell_type": "markdown",
   "metadata": {},
   "source": [
    "También podemos representar gráficamente el valor de cada estado _(posición)_ según la estimación que hemos hecho de `Q`. \n",
    "\n",
    "Para visualizar los resultados es necesario disponer del fichero [_plot_\\__utils.py_](https://github.com/jgromero/eci2019-DRL/blob/master/Tema%203%20-%20Aprendizaje%20por%20Refuerzo/code/plot_utils.py). \n",
    "\n",
    "(En Google Colaboratory, usar en el panel izquierdo, pestaña _Archivos_ > _Subir_. El fichero estará disponible hasta que se cierre el entorno de ejecución.)"
   ]
  },
  {
   "cell_type": "code",
   "execution_count": 9,
   "metadata": {},
   "outputs": [
    {
     "data": {
      "image/png": "[encoded data removed]",
      "text/plain": [
       "<Figure size 1080x360 with 1 Axes>"
      ]
     },
     "metadata": {},
     "output_type": "display_data"
    }
   ],
   "source": [
    "from plot_utils import plot_values\n",
    "V = ([np.max(Q[key]) if key in Q else 0 for key in np.arange(48)])\n",
    "plot_values(V)"
   ]
  },
  {
   "cell_type": "markdown",
   "metadata": {},
   "source": [
    "---\n",
    "### EJERCICIO\n",
    "\n",
    "¿Qué parámetros influyen en el rendimiento del agente? Probar con diferentes combinaciones de valores.\n",
    "\n",
    "\n",
    "---"
   ]
  }
 ],
 "metadata": {
  "kernelspec": {
   "display_name": "Python 3",
   "language": "python",
   "name": "python3"
  },
  "language_info": {
   "codemirror_mode": {
    "name": "ipython",
    "version": 3
   },
   "file_extension": ".py",
   "mimetype": "text/x-python",
   "name": "python",
   "nbconvert_exporter": "python",
   "pygments_lexer": "ipython3",
   "version": "3.6.8"
  }
 },
 "nbformat": 4,
 "nbformat_minor": 2
}
