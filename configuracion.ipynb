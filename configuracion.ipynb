{
 "cells": [
  {
   "cell_type": "markdown",
   "metadata": {},
   "source": [
    "# Instrucciones para ejecutar ejemplos del curso"
   ]
  },
  {
   "cell_type": "markdown",
   "metadata": {},
   "source": [
    "## Pre-requisitos"
   ]
  },
  {
   "cell_type": "code",
   "execution_count": 1,
   "metadata": {},
   "outputs": [
    {
     "name": "stdout",
     "output_type": "stream",
     "text": [
      "Collecting package metadata (current_repodata.json): done\n",
      "Solving environment: done\n",
      "\n",
      "# All requested packages already installed.\n",
      "\n",
      "\n",
      "Note: you may need to restart the kernel to use updated packages.\n",
      "Collecting pip==18.0\n",
      "  Using cached https://files.pythonhosted.org/packages/5f/25/e52d3f31441505a5f3af41213346e5b6c221c9e086a166f3703d2ddaf940/pip-18.0-py2.py3-none-any.whl\n",
      "Installing collected packages: pip\n",
      "  Found existing installation: pip 19.0.3\n",
      "    Uninstalling pip-19.0.3:\n",
      "      Successfully uninstalled pip-19.0.3\n",
      "Successfully installed pip-18.0\n",
      "Note: you may need to restart the kernel to use updated packages.\n"
     ]
    }
   ],
   "source": [
    "%conda install pip\n",
    "%pip install --upgrade pip==18.0"
   ]
  },
  {
   "cell_type": "code",
   "execution_count": 2,
   "metadata": {},
   "outputs": [
    {
     "name": "stdout",
     "output_type": "stream",
     "text": [
      "Requirement already satisfied: torch in /Users/juan/anaconda/lib/python3.6/site-packages (1.1.0)\n",
      "Requirement already satisfied: torchvision in /Users/juan/anaconda/lib/python3.6/site-packages (0.3.0)\n",
      "Requirement already satisfied: pillow in /Users/juan/anaconda/lib/python3.6/site-packages (5.4.1)\n",
      "Requirement already satisfied: gym in /Users/juan/anaconda/lib/python3.6/site-packages (0.13.0)\n",
      "Requirement already satisfied: requests in /Users/juan/anaconda/lib/python3.6/site-packages (2.21.0)\n",
      "Requirement already satisfied: sklearn in /Users/juan/anaconda/lib/python3.6/site-packages (0.0)\n",
      "Requirement already satisfied: matplotlib in /Users/juan/anaconda/lib/python3.6/site-packages (3.0.3)\n",
      "Requirement already satisfied: collections-extended in /Users/juan/anaconda/lib/python3.6/site-packages (1.0.2)\n",
      "Requirement already satisfied: numpy in /Users/juan/anaconda/lib/python3.6/site-packages (1.16.4)\n",
      "Requirement already satisfied: box2d-py in /Users/juan/anaconda/lib/python3.6/site-packages (2.3.8)\n",
      "Requirement already satisfied: six in /Users/juan/anaconda/lib/python3.6/site-packages (from torchvision) (1.12.0)\n",
      "Requirement already satisfied: pyglet>=1.2.0 in /Users/juan/anaconda/lib/python3.6/site-packages (from gym) (1.4.0)\n",
      "Requirement already satisfied: scipy in /Users/juan/anaconda/lib/python3.6/site-packages (from gym) (1.3.0)\n",
      "Requirement already satisfied: cloudpickle~=1.2.0 in /Users/juan/anaconda/lib/python3.6/site-packages (from gym) (1.2.1)\n",
      "Requirement already satisfied: idna<2.9,>=2.5 in /Users/juan/anaconda/lib/python3.6/site-packages (from requests) (2.8)\n",
      "Requirement already satisfied: certifi>=2017.4.17 in /Users/juan/anaconda/lib/python3.6/site-packages (from requests) (2019.3.9)\n",
      "Requirement already satisfied: urllib3<1.25,>=1.21.1 in /Users/juan/anaconda/lib/python3.6/site-packages (from requests) (1.24.1)\n",
      "Requirement already satisfied: chardet<3.1.0,>=3.0.2 in /Users/juan/anaconda/lib/python3.6/site-packages (from requests) (3.0.4)\n",
      "Requirement already satisfied: scikit-learn in /Users/juan/anaconda/lib/python3.6/site-packages (from sklearn) (0.20.3)\n",
      "Requirement already satisfied: cycler>=0.10 in /Users/juan/anaconda/lib/python3.6/site-packages (from matplotlib) (0.10.0)\n",
      "Requirement already satisfied: kiwisolver>=1.0.1 in /Users/juan/anaconda/lib/python3.6/site-packages (from matplotlib) (1.0.1)\n",
      "Requirement already satisfied: pyparsing!=2.0.4,!=2.1.2,!=2.1.6,>=2.0.1 in /Users/juan/anaconda/lib/python3.6/site-packages (from matplotlib) (2.3.1)\n",
      "Requirement already satisfied: python-dateutil>=2.1 in /Users/juan/anaconda/lib/python3.6/site-packages (from matplotlib) (2.8.0)\n",
      "Requirement already satisfied: setuptools in /Users/juan/anaconda/lib/python3.6/site-packages (from collections-extended) (40.8.0)\n",
      "Requirement already satisfied: future in /Users/juan/anaconda/lib/python3.6/site-packages (from pyglet>=1.2.0->gym) (0.17.1)\n",
      "\u001b[33mYou are using pip version 18.0, however version 19.1.1 is available.\n",
      "You should consider upgrading via the 'pip install --upgrade pip' command.\u001b[0m\n"
     ]
    }
   ],
   "source": [
    "!pip install torch torchvision pillow gym requests sklearn matplotlib collections-extended numpy box2d-py gym[Box_2D]"
   ]
  },
  {
   "cell_type": "markdown",
   "metadata": {},
   "source": [
    "## Preparar entorno Google Colab\n",
    "El resto de este cuaderno solo se ejecutará en [Google Colaboratory](http://colab.research.google.com/)."
   ]
  },
  {
   "cell_type": "markdown",
   "metadata": {},
   "source": [
    "### Montar unidad de red en Google Drive\n",
    "La unidad de Google Drive será accesible en este entorno."
   ]
  },
  {
   "cell_type": "code",
   "execution_count": 3,
   "metadata": {},
   "outputs": [],
   "source": [
    "import sys\n",
    "IN_COLAB = 'google.colab' in sys.modules\n",
    "\n",
    "if IN_COLAB:\n",
    "    %cd \"drive/My Drive/ECI/eci2019-DRL/Tema 4 - Aprendizaje Profundo por Refuerzo/code/ddpg/\n",
    "    render = False\n",
    "else:\n",
    "    render = True"
   ]
  },
  {
   "cell_type": "code",
   "execution_count": 4,
   "metadata": {},
   "outputs": [],
   "source": [
    "if IN_COLAB:\n",
    "    from google.colab import drive\n",
    "    drive.mount('/content/drive')\n",
    "\n",
    "    %cd 'drive/My Drive'"
   ]
  },
  {
   "cell_type": "markdown",
   "metadata": {},
   "source": [
    "### Clonar repositorio\n",
    "Crear carpeta `drive/My Drive/ECI/eci2019-DRL` con los contenidos del curso."
   ]
  },
  {
   "cell_type": "code",
   "execution_count": 5,
   "metadata": {},
   "outputs": [],
   "source": [
    "if IN_COLAB:\n",
    "    %cd 'drive/My Drive'\n",
    "    %mkdir 'ECI'\n",
    "    %cd 'ECI'\n",
    "    !git clone https://github.com/jgromero/eci2019-DRL.git "
   ]
  },
  {
   "cell_type": "markdown",
   "metadata": {},
   "source": [
    "### Acceder a Google Drive\n",
    "\n",
    "Ir a [Google Drive](https://drive.google.com/) y buscamos la carpeta con los ejemplos recién creada.\n",
    "\n",
    "Recuerda ejecutar antes de lanzar un cuaderno: \n",
    "\n",
    "`%cd \"drive/My Drive/ECI/eci2019-DRL/<carpeta tema>/code/\"`\n",
    "\n",
    "Por ejemplo, para DQN:\n",
    "\n",
    "`%cd \"drive/My Drive/ECI/eci2019-DRL/Tema 4 - Aprendizaje Profundo por Refuerzo/code/dqn"
   ]
  }
 ],
 "metadata": {
  "kernelspec": {
   "display_name": "Python 3",
   "language": "python",
   "name": "python3"
  },
  "language_info": {
   "codemirror_mode": {
    "name": "ipython",
    "version": 3
   },
   "file_extension": ".py",
   "mimetype": "text/x-python",
   "name": "python",
   "nbconvert_exporter": "python",
   "pygments_lexer": "ipython3",
   "version": "3.6.8"
  }
 },
 "nbformat": 4,
 "nbformat_minor": 2
}
